{
  "metadata": {
    "kernelspec": {
      "name": "python",
      "display_name": "Python (Pyodide)",
      "language": "python"
    },
    "language_info": {
      "codemirror_mode": {
        "name": "python",
        "version": 3
      },
      "file_extension": ".py",
      "mimetype": "text/x-python",
      "name": "python",
      "nbconvert_exporter": "python",
      "pygments_lexer": "ipython3",
      "version": "3.8"
    }
  },
  "nbformat_minor": 5,
  "nbformat": 4,
  "cells": [
    {
      "id": "528a3209-d814-4fe2-b5c4-c8424f703603",
      "cell_type": "markdown",
      "source": "#### PANKAJ 04",
      "metadata": {}
    },
    {
      "id": "b66cb432-a700-47a0-85ca-42ffcf4fd626",
      "cell_type": "code",
      "source": "from pathlib import Path\n \n# Get the current directory\ncurrent_directory = Path('.')\n\n# List only files in the current directory\nfiles = [f for f in current_directory.iterdir() if f.is_file()]\n\nprint(\"Files in the current directory:\")\nfor file in files:\n    print(file.name)\n",
      "metadata": {
        "trusted": true
      },
      "outputs": [],
      "execution_count": null
    },
    {
      "id": "d11ab04a-162f-4db2-a707-9dcdc20d4d43",
      "cell_type": "code",
      "source": "",
      "metadata": {
        "trusted": true
      },
      "outputs": [],
      "execution_count": null
    }
  ]
}