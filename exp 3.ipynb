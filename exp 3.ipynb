{
  "metadata": {
    "kernelspec": {
      "name": "python",
      "display_name": "Python (Pyodide)",
      "language": "python"
    },
    "language_info": {
      "codemirror_mode": {
        "name": "python",
        "version": 3
      },
      "file_extension": ".py",
      "mimetype": "text/x-python",
      "name": "python",
      "nbconvert_exporter": "python",
      "pygments_lexer": "ipython3",
      "version": "3.8"
    }
  },
  "nbformat_minor": 5,
  "nbformat": 4,
  "cells": [
    {
      "id": "af5eead2-1738-4608-aac1-161b3939e915",
      "cell_type": "markdown",
      "source": "#### PANKAJ 05",
      "metadata": {}
    },
    {
      "id": "04d535a7-595c-4025-8eb7-b963c7cd29ca",
      "cell_type": "code",
      "source": "if __name__ == '__main__':\n    with open('./file.txt', 'r') as file:\n        lines = file.readlines()\n        numberOfLines = len(lines)\n        numberOfWords = sum(len(line.split()) for line in lines)\n        \n        # Count the number of characters\n        numberOfCharacters = sum(len(line) for line in lines)\n        \n    print(f\"No. of Lines: {numberOfLines}\")\n    print(f\"No. of Words: {numberOfWords}\")\n    print(f\"No. of Characters: {numberOfCharacters}\")\n",
      "metadata": {
        "trusted": true
      },
      "outputs": [
        {
          "name": "stdout",
          "output_type": "stream",
          "text": "No. of Lines: 4\nNo. of Words: 21\nNo. of Characters: 123\n"
        }
      ],
      "execution_count": 4
    }
  ]
}